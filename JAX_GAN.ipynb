{
  "nbformat": 4,
  "nbformat_minor": 0,
  "metadata": {
    "colab": {
      "name": "JAX-GAN.ipynb",
      "provenance": [],
      "collapsed_sections": [],
      "authorship_tag": "ABX9TyP+qqeMFnV9xeI9BVgTRS8L",
      "include_colab_link": true
    },
    "kernelspec": {
      "name": "python3",
      "display_name": "Python 3"
    },
    "language_info": {
      "name": "python"
    },
    "accelerator": "GPU"
  },
  "cells": [
    {
      "cell_type": "markdown",
      "metadata": {
        "id": "view-in-github",
        "colab_type": "text"
      },
      "source": [
        "<a href=\"https://colab.research.google.com/github/ykato27/GAN/blob/main/JAX_GAN.ipynb\" target=\"_parent\"><img src=\"https://colab.research.google.com/assets/colab-badge.svg\" alt=\"Open In Colab\"/></a>"
      ]
    },
    {
      "cell_type": "markdown",
      "metadata": {
        "id": "UCd_yK1_odFs"
      },
      "source": [
        "## JAXとは\n",
        "- Google製のライブラリで、AutogradとXLAからなる、機械学習のための数値計算ライブラリ"
      ]
    },
    {
      "cell_type": "markdown",
      "metadata": {
        "id": "fzYoUcMNohbi"
      },
      "source": [
        "#### Data generation"
      ]
    },
    {
      "cell_type": "code",
      "metadata": {
        "colab": {
          "base_uri": "https://localhost:8080/",
          "height": 265
        },
        "id": "BWRVwlwYoaor",
        "outputId": "c218d5c9-5b72-40c3-a592-d01f014860da"
      },
      "source": [
        "import numpy as np\n",
        "import matplotlib.pyplot as plt\n",
        "from tensorflow.data import Dataset\n",
        "\n",
        "data = np.concatenate([np.random.normal(0, 0.1, 10000), np.random.normal(0.5, 0.1, 10000)])\n",
        "plt.hist(data, 100);\n",
        "\n",
        "train_set = Dataset.from_tensor_slices(data).shuffle(len(data), reshuffle_each_iteration=True).batch(10).prefetch(1)"
      ],
      "execution_count": 1,
      "outputs": [
        {
          "output_type": "display_data",
          "data": {
            "image/png": "[encoded data removed]",
            "text/plain": [
              "<Figure size 432x288 with 1 Axes>"
            ]
          },
          "metadata": {
            "needs_background": "light"
          }
        }
      ]
    },
    {
      "cell_type": "markdown",
      "metadata": {
        "id": "wTz0Dfrbomya"
      },
      "source": [
        "#### Training 1-d GAN (PyTorch)"
      ]
    },
    {
      "cell_type": "code",
      "metadata": {
        "colab": {
          "base_uri": "https://localhost:8080/",
          "height": 829
        },
        "id": "ouEIutVLolnv",
        "outputId": "ab4e7f41-cf1f-461a-d2fb-5b59da3cf3d0"
      },
      "source": [
        "import time\n",
        "\n",
        "import torch\n",
        "import torch.nn as nn\n",
        "import torch.optim as optim\n",
        "\n",
        "\n",
        "class Generator(nn.Module):\n",
        "    def __init__(self, z_dim=512):\n",
        "        super().__init__()\n",
        "        self.net = nn.Sequential(nn.Linear(z_dim, 64), nn.BatchNorm1d(64, 0.8), nn.ReLU(),\n",
        "                                 nn.Linear(64, 32), nn.BatchNorm1d(32, 0.8), nn.ReLU(),\n",
        "                                 nn.Linear(32, 1))\n",
        "        \n",
        "    def forward(self, x):\n",
        "        return self.net(x)\n",
        "\n",
        "class Discriminator(nn.Module):\n",
        "    def __init__(self):\n",
        "        super().__init__()\n",
        "        self.net = nn.Sequential(nn.Linear(1, 32), nn.BatchNorm1d(32, 0.8), nn.ReLU(),\n",
        "                                 nn.Linear(32, 64), nn.BatchNorm1d(64, 0.8), nn.ReLU(),\n",
        "                                 nn.Linear(64, 1))\n",
        "        \n",
        "        \n",
        "    def forward(self, x):\n",
        "        return self.net(x)\n",
        "\n",
        "z_dim = 512\n",
        "generator = Generator(z_dim)\n",
        "g_opt = optim.Adam(generator.parameters(), lr=0.00005)\n",
        "discriminator = Discriminator()\n",
        "d_opt = optim.Adam(discriminator.parameters(), lr=0.0001)\n",
        "criterion = nn.MSELoss()\n",
        "\n",
        "def g_step(z):\n",
        "    valid = torch.ones((len(z), 1))\n",
        "    fake_data = generator(z)\n",
        "    g_loss = criterion(discriminator(fake_data), valid)\n",
        "    g_opt.zero_grad()\n",
        "    g_loss.backward()\n",
        "    g_opt.step()\n",
        "\n",
        "    return g_loss, fake_data\n",
        "\n",
        "def d_step(real_data, fake_data):\n",
        "    valid = torch.ones((len(real_data), 1))\n",
        "    fake = torch.zeros((len(fake_data), 1))\n",
        "    d_loss_real = criterion(discriminator(real_data), valid)\n",
        "    d_opt.zero_grad()\n",
        "    d_loss_real.backward()\n",
        "    d_opt.step()\n",
        "    d_loss_fake = criterion(discriminator(fake_data.detach()), fake)\n",
        "    d_opt.zero_grad()\n",
        "    d_loss_fake.backward()\n",
        "    d_opt.step()\n",
        "    d_loss = (d_loss_real + d_loss_fake) / 2.\n",
        "\n",
        "    return d_loss\n",
        "\n",
        "elapsed_total = 0.0\n",
        "for e in range(30):\n",
        "    g_loss_avg, d_loss_avg = 0, 0\n",
        "    tic = time.time()\n",
        "    for x in train_set.as_numpy_iterator():\n",
        "        n = len(x)\n",
        "        real_data = torch.from_numpy(x).float().reshape(n, -1)\n",
        "        z = torch.randn((n, z_dim))\n",
        "        g_loss, fake_data = g_step(z)\n",
        "        d_loss = d_step(real_data, fake_data)\n",
        "        g_loss_avg += g_loss.item()\n",
        "        d_loss_avg += d_loss.item()\n",
        "    g_loss_avg /= len(train_set)\n",
        "    d_loss_avg /= len(train_set)\n",
        "    elapsed = time.time() - tic\n",
        "    elapsed_total += elapsed\n",
        "    print(f\"epoch: {e}, g_loss: {g_loss_avg:0.2f}, d_loss: {d_loss_avg:0.2f}, elapased: {elapsed:0.2f}\")\n",
        "\n",
        "z = torch.randn((10000, z_dim))\n",
        "fake_data = generator(z).detach().flatten().numpy()\n",
        "plt.figure()\n",
        "plt.hist(fake_data, 100, alpha=.5);\n",
        "plt.hist(data, 100, alpha=.5);\n",
        "plt.legend([\"Generated\", \"Data\"])\n",
        "plt.show()\n",
        "print(f\"total elapsed: {elapsed_total: 0.2f}\")"
      ],
      "execution_count": 2,
      "outputs": [
        {
          "output_type": "stream",
          "name": "stderr",
          "text": [
            "/usr/local/lib/python3.7/dist-packages/ipykernel_launcher.py:67: UserWarning: The given NumPy array is not writeable, and PyTorch does not support non-writeable tensors. This means you can write to the underlying (supposedly non-writeable) NumPy array using the tensor. You may want to copy the array to protect its data or make it writeable before converting it to a tensor. This type of warning will be suppressed for the rest of this program. (Triggered internally at  /pytorch/torch/csrc/utils/tensor_numpy.cpp:180.)\n"
          ]
        },
        {
          "output_type": "stream",
          "name": "stdout",
          "text": [
            "epoch: 0, g_loss: 0.40, d_loss: 0.27, elapased: 14.29\n",
            "epoch: 1, g_loss: 0.34, d_loss: 0.24, elapased: 13.80\n",
            "epoch: 2, g_loss: 0.26, d_loss: 0.23, elapased: 13.93\n",
            "epoch: 3, g_loss: 0.28, d_loss: 0.23, elapased: 13.93\n",
            "epoch: 4, g_loss: 0.28, d_loss: 0.24, elapased: 13.81\n",
            "epoch: 5, g_loss: 0.27, d_loss: 0.24, elapased: 13.88\n",
            "epoch: 6, g_loss: 0.26, d_loss: 0.25, elapased: 13.86\n",
            "epoch: 7, g_loss: 0.26, d_loss: 0.25, elapased: 13.86\n",
            "epoch: 8, g_loss: 0.26, d_loss: 0.25, elapased: 13.98\n",
            "epoch: 9, g_loss: 0.26, d_loss: 0.25, elapased: 13.95\n",
            "epoch: 10, g_loss: 0.26, d_loss: 0.25, elapased: 13.92\n",
            "epoch: 11, g_loss: 0.25, d_loss: 0.25, elapased: 13.90\n",
            "epoch: 12, g_loss: 0.26, d_loss: 0.25, elapased: 13.72\n",
            "epoch: 13, g_loss: 0.25, d_loss: 0.25, elapased: 13.83\n",
            "epoch: 14, g_loss: 0.25, d_loss: 0.25, elapased: 13.74\n",
            "epoch: 15, g_loss: 0.26, d_loss: 0.25, elapased: 13.76\n",
            "epoch: 16, g_loss: 0.25, d_loss: 0.25, elapased: 13.53\n",
            "epoch: 17, g_loss: 0.25, d_loss: 0.25, elapased: 13.54\n",
            "epoch: 18, g_loss: 0.25, d_loss: 0.25, elapased: 13.54\n",
            "epoch: 19, g_loss: 0.25, d_loss: 0.25, elapased: 13.56\n",
            "epoch: 20, g_loss: 0.25, d_loss: 0.25, elapased: 13.46\n",
            "epoch: 21, g_loss: 0.26, d_loss: 0.25, elapased: 13.76\n",
            "epoch: 22, g_loss: 0.26, d_loss: 0.25, elapased: 13.51\n",
            "epoch: 23, g_loss: 0.26, d_loss: 0.25, elapased: 13.63\n",
            "epoch: 24, g_loss: 0.26, d_loss: 0.25, elapased: 13.72\n",
            "epoch: 25, g_loss: 0.26, d_loss: 0.25, elapased: 13.63\n",
            "epoch: 26, g_loss: 0.26, d_loss: 0.25, elapased: 13.70\n",
            "epoch: 27, g_loss: 0.26, d_loss: 0.25, elapased: 20.47\n",
            "epoch: 28, g_loss: 0.26, d_loss: 0.25, elapased: 13.75\n",
            "epoch: 29, g_loss: 0.26, d_loss: 0.25, elapased: 13.64\n"
          ]
        },
        {
          "output_type": "display_data",
          "data": {
            "image/png": "[encoded data removed]",
            "text/plain": [
              "<Figure size 432x288 with 1 Axes>"
            ]
          },
          "metadata": {
            "needs_background": "light"
          }
        },
        {
          "output_type": "stream",
          "name": "stdout",
          "text": [
            "total elapsed:  419.60\n"
          ]
        }
      ]
    },
    {
      "cell_type": "code",
      "metadata": {
        "colab": {
          "base_uri": "https://localhost:8080/"
        },
        "id": "HT2jIWPDopdB",
        "outputId": "451eaba5-9a2f-40c9-fd28-8859180bc880"
      },
      "source": [
        "!pip install --quiet flax"
      ],
      "execution_count": 3,
      "outputs": [
        {
          "output_type": "stream",
          "name": "stdout",
          "text": [
            "\u001b[?25l\r\u001b[K     |█▊                              | 10 kB 26.1 MB/s eta 0:00:01\r\u001b[K     |███▍                            | 20 kB 19.4 MB/s eta 0:00:01\r\u001b[K     |█████                           | 30 kB 15.9 MB/s eta 0:00:01\r\u001b[K     |██████▊                         | 40 kB 13.8 MB/s eta 0:00:01\r\u001b[K     |████████▌                       | 51 kB 5.4 MB/s eta 0:00:01\r\u001b[K     |██████████▏                     | 61 kB 5.9 MB/s eta 0:00:01\r\u001b[K     |███████████▉                    | 71 kB 5.5 MB/s eta 0:00:01\r\u001b[K     |█████████████▌                  | 81 kB 6.1 MB/s eta 0:00:01\r\u001b[K     |███████████████▏                | 92 kB 6.1 MB/s eta 0:00:01\r\u001b[K     |█████████████████               | 102 kB 5.3 MB/s eta 0:00:01\r\u001b[K     |██████████████████▋             | 112 kB 5.3 MB/s eta 0:00:01\r\u001b[K     |████████████████████▎           | 122 kB 5.3 MB/s eta 0:00:01\r\u001b[K     |██████████████████████          | 133 kB 5.3 MB/s eta 0:00:01\r\u001b[K     |███████████████████████▋        | 143 kB 5.3 MB/s eta 0:00:01\r\u001b[K     |█████████████████████████▍      | 153 kB 5.3 MB/s eta 0:00:01\r\u001b[K     |███████████████████████████     | 163 kB 5.3 MB/s eta 0:00:01\r\u001b[K     |████████████████████████████▊   | 174 kB 5.3 MB/s eta 0:00:01\r\u001b[K     |██████████████████████████████▍ | 184 kB 5.3 MB/s eta 0:00:01\r\u001b[K     |████████████████████████████████| 193 kB 5.3 MB/s \n",
            "\u001b[K     |████████████████████████████████| 118 kB 43.4 MB/s \n",
            "\u001b[K     |████████████████████████████████| 57 kB 5.1 MB/s \n",
            "\u001b[?25h"
          ]
        }
      ]
    },
    {
      "cell_type": "code",
      "metadata": {
        "colab": {
          "base_uri": "https://localhost:8080/",
          "height": 792
        },
        "id": "RYH6nrEUorId",
        "outputId": "2503c763-f286-409a-ede2-665a80c15969"
      },
      "source": [
        "from functools import partial\n",
        "\n",
        "import jax\n",
        "import jax.numpy as jnp\n",
        "import flax.linen as fnn\n",
        "from flax.core import FrozenDict\n",
        "from flax.training.train_state import TrainState\n",
        "import optax\n",
        "\n",
        "\n",
        "class Generator(fnn.Module):\n",
        "    @fnn.compact\n",
        "    def __call__(self, z, use_running_average):\n",
        "        h = fnn.Dense(64)(z)\n",
        "        h = fnn.BatchNorm(use_running_average=use_running_average, momentum=0.8)(h)\n",
        "        h = fnn.relu(h)\n",
        "        h = fnn.Dense(32)(h)\n",
        "        h = fnn.BatchNorm(use_running_average=use_running_average, momentum=0.8)(h)\n",
        "        h = fnn.relu(h)\n",
        "        y = fnn.Dense(1)(h)\n",
        "        return y\n",
        "\n",
        "class Discriminator(fnn.Module):\n",
        "    @fnn.compact\n",
        "    def __call__(self, x, use_running_average):\n",
        "        h = fnn.Dense(32)(x)\n",
        "        h = fnn.BatchNorm(use_running_average=use_running_average, momentum=0.8)(h)\n",
        "        h = fnn.relu(h)\n",
        "        h = fnn.Dense(64)(h)\n",
        "        h = fnn.BatchNorm(use_running_average=use_running_average, momentum=0.8)(h)\n",
        "        h = fnn.relu(h)\n",
        "        y = fnn.Dense(1)(h)\n",
        "        return y\n",
        "\n",
        "class CustomTrainState(TrainState):\n",
        "    batch_stats: dict\n",
        "    \n",
        "    def apply_fn_with_bn(self, *args, is_training, **nargs):\n",
        "        output, mutated_vars = self.apply_fn(*args, **nargs, use_running_average=not is_training, mutable=[\"batch_stats\"])\n",
        "        new_batch_stats = mutated_vars[\"batch_stats\"]\n",
        "        return output, new_batch_stats\n",
        "    \n",
        "    def update_batch_stats(self, new_batch_stats):\n",
        "        return self.replace(batch_stats=new_batch_stats)\n",
        "    \n",
        "@partial(jax.jit, static_argnums=(3,))\n",
        "def g_step(z, g_state, d_state, is_training=True):\n",
        "    def loss_fn(g_params, g_bs, d_params, d_bs, is_training):\n",
        "        gen_data, g_bs = g_state.apply_fn_with_bn({\"params\": g_params, \"batch_stats\": g_bs}, z, is_training=is_training)\n",
        "        validity, d_bs = d_state.apply_fn_with_bn({\"params\": d_params, \"batch_stats\": d_bs}, gen_data, is_training=is_training)\n",
        "        g_loss = optax.l2_loss(validity, jnp.ones((len(validity), 1))).mean() * 2.\n",
        "        # multiplication by 2 to make the loss consistent with pytorch. see https://github.com/deepmind/optax/blob/master/optax/_src/loss.py#L32#L54\n",
        "        return g_loss, (gen_data, g_bs, d_bs)\n",
        "        \n",
        "    if is_training:\n",
        "        grad_fn = jax.value_and_grad(loss_fn, has_aux=True)\n",
        "        (g_loss, (gen_data, g_bs, d_bs)), grads = grad_fn(g_state.params, g_state.batch_stats, d_state.params, d_state.batch_stats, True)\n",
        "        g_state = g_state.apply_gradients(grads=grads)\n",
        "        g_state = g_state.update_batch_stats(g_bs)\n",
        "        d_state = g_state.update_batch_stats(d_bs)\n",
        "    else:\n",
        "        g_loss, (gen_data, g_bs, d_bs) = loss_fn(g_state.params, g_state.batch_stats, d_state.params, d_state.batch_stats, False)\n",
        "    \n",
        "    return g_loss, g_state, gen_data\n",
        "\n",
        "@partial(jax.jit, static_argnums=(3,))\n",
        "def d_step(real_data, fake_data, d_state, is_training=True):\n",
        "    valid = jnp.ones((len(real_data), 1))\n",
        "    fake = jnp.zeros((len(fake_data), 1))\n",
        "    def loss_fn(d_params, d_bs, is_training):\n",
        "        validity, d_bs = d_state.apply_fn_with_bn({\"params\": d_params, \"batch_stats\": d_bs}, x, is_training=is_training)\n",
        "        d_loss = optax.l2_loss(validity, y).mean()\n",
        "        return d_loss, d_bs\n",
        "    \n",
        "    loss = 0.\n",
        "    if is_training:\n",
        "        grad_fn = jax.value_and_grad(loss_fn, has_aux=True)\n",
        "        for x, y in zip([real_data, fake_data], [valid, fake]):\n",
        "            (loss_, d_bs), grads = grad_fn(d_state.params, d_state.batch_stats, True)\n",
        "            d_state = d_state.apply_gradients(grads=grads)\n",
        "            d_state = d_state.update_batch_stats(d_bs)\n",
        "            loss += loss_\n",
        "    else:\n",
        "        for x, y in zip([real_data, fake_data], [valid, fake]):\n",
        "            loss_, d_bs = loss_fn(d_state.params, d_state.batch_stats, False)\n",
        "            loss += loss_\n",
        "        \n",
        "    return loss, d_state\n",
        "    \n",
        "key = jax.random.PRNGKey(0)\n",
        "\n",
        "z_dim = 512\n",
        "g = Generator()\n",
        "subkey, key = jax.random.split(key)\n",
        "g_variables = g.init(subkey, jnp.ones((1, z_dim)), True)\n",
        "g_tx = optax.adam(0.00005)\n",
        "g_state = CustomTrainState.create(apply_fn=g.apply, params=g_variables[\"params\"], tx=g_tx, batch_stats=g_variables[\"batch_stats\"])\n",
        "\n",
        "d = Discriminator()\n",
        "subkey, key = jax.random.split(key)\n",
        "d_variables = d.init(subkey, jnp.ones((1, 1)), True)\n",
        "d_tx = optax.adam(0.0001)\n",
        "d_state = CustomTrainState.create(apply_fn=d.apply, params=d_variables[\"params\"], tx=d_tx, batch_stats=d_variables[\"batch_stats\"])\n",
        "\n",
        "elapsed_total = 0.0\n",
        "for e in range(30):\n",
        "    g_loss_avg, d_loss_avg = 0, 0\n",
        "    tic = time.time()\n",
        "    for x in train_set.as_numpy_iterator():\n",
        "        subkey, key = jax.random.split(key)\n",
        "        z = jax.random.normal(subkey, (32, z_dim))\n",
        "        real_data = jnp.array(x).reshape(-1, 1)\n",
        "        g_loss, g_state, gen_data = g_step(z, g_state, d_state, True)\n",
        "        d_loss, d_state = d_step(real_data, gen_data, d_state, True)\n",
        "        g_loss_avg += g_loss\n",
        "        d_loss_avg += d_loss\n",
        "    g_loss_avg /= len(train_set)\n",
        "    d_loss_avg /= len(train_set)\n",
        "    elapsed = time.time() - tic\n",
        "    elapsed_total += elapsed\n",
        "    print(f\"epoch: {e}, g_loss: {g_loss_avg:0.2f}, d_loss: {d_loss_avg:0.2f}, elapased: {elapsed:0.2f}\")\n",
        "z = jax.random.normal(key, (10000, z_dim))\n",
        "gen_data, g_bs = g_state.apply_fn_with_bn({\"params\": g_state.params, \"batch_stats\": g_state.batch_stats}, z, is_training=False)\n",
        "plt.hist(gen_data.flatten(), 100);\n",
        "plt.hist(data, 100, alpha=.5);\n",
        "plt.legend([\"Generated\", \"Data\"])\n",
        "plt.show()\n",
        "\n",
        "print(f\"total elapsed: {elapsed_total: 0.2f}\")"
      ],
      "execution_count": 4,
      "outputs": [
        {
          "output_type": "stream",
          "name": "stdout",
          "text": [
            "epoch: 0, g_loss: 0.31, d_loss: 0.21, elapased: 13.37\n",
            "epoch: 1, g_loss: 0.36, d_loss: 0.17, elapased: 6.89\n",
            "epoch: 2, g_loss: 0.41, d_loss: 0.15, elapased: 7.03\n",
            "epoch: 3, g_loss: 0.42, d_loss: 0.15, elapased: 6.93\n",
            "epoch: 4, g_loss: 0.40, d_loss: 0.15, elapased: 6.86\n",
            "epoch: 5, g_loss: 0.43, d_loss: 0.14, elapased: 6.97\n",
            "epoch: 6, g_loss: 0.46, d_loss: 0.13, elapased: 6.98\n",
            "epoch: 7, g_loss: 0.49, d_loss: 0.12, elapased: 6.99\n",
            "epoch: 8, g_loss: 0.52, d_loss: 0.11, elapased: 6.87\n",
            "epoch: 9, g_loss: 0.56, d_loss: 0.10, elapased: 6.89\n",
            "epoch: 10, g_loss: 0.60, d_loss: 0.09, elapased: 6.88\n",
            "epoch: 11, g_loss: 0.63, d_loss: 0.09, elapased: 6.92\n",
            "epoch: 12, g_loss: 0.65, d_loss: 0.09, elapased: 6.79\n",
            "epoch: 13, g_loss: 0.66, d_loss: 0.09, elapased: 6.79\n",
            "epoch: 14, g_loss: 0.65, d_loss: 0.09, elapased: 6.97\n",
            "epoch: 15, g_loss: 0.65, d_loss: 0.10, elapased: 6.80\n",
            "epoch: 16, g_loss: 0.62, d_loss: 0.10, elapased: 6.98\n",
            "epoch: 17, g_loss: 0.60, d_loss: 0.11, elapased: 6.96\n",
            "epoch: 18, g_loss: 0.54, d_loss: 0.13, elapased: 7.01\n",
            "epoch: 19, g_loss: 0.47, d_loss: 0.16, elapased: 6.79\n",
            "epoch: 20, g_loss: 0.41, d_loss: 0.19, elapased: 6.87\n",
            "epoch: 21, g_loss: 0.35, d_loss: 0.22, elapased: 6.82\n",
            "epoch: 22, g_loss: 0.34, d_loss: 0.22, elapased: 6.84\n",
            "epoch: 23, g_loss: 0.35, d_loss: 0.22, elapased: 6.80\n",
            "epoch: 24, g_loss: 0.35, d_loss: 0.21, elapased: 6.72\n",
            "epoch: 25, g_loss: 0.36, d_loss: 0.20, elapased: 6.88\n",
            "epoch: 26, g_loss: 0.37, d_loss: 0.20, elapased: 6.84\n",
            "epoch: 27, g_loss: 0.38, d_loss: 0.19, elapased: 6.69\n",
            "epoch: 28, g_loss: 0.39, d_loss: 0.19, elapased: 6.86\n",
            "epoch: 29, g_loss: 0.40, d_loss: 0.18, elapased: 6.83\n"
          ]
        },
        {
          "output_type": "display_data",
          "data": {
            "image/png": "[encoded data removed]",
            "text/plain": [
              "<Figure size 432x288 with 1 Axes>"
            ]
          },
          "metadata": {
            "needs_background": "light"
          }
        },
        {
          "output_type": "stream",
          "name": "stdout",
          "text": [
            "total elapsed:  212.83\n"
          ]
        }
      ]
    },
    {
      "cell_type": "code",
      "metadata": {
        "id": "l12ZTkiJotxx"
      },
      "source": [
        ""
      ],
      "execution_count": null,
      "outputs": []
    }
  ]
}