{
  "nbformat": 4,
  "nbformat_minor": 0,
  "metadata": {
    "kernelspec": {
      "display_name": "Python 3",
      "language": "python",
      "name": "python3"
    },
    "language_info": {
      "codemirror_mode": {
        "name": "ipython",
        "version": 3
      },
      "file_extension": ".py",
      "mimetype": "text/x-python",
      "name": "python",
      "nbconvert_exporter": "python",
      "pygments_lexer": "ipython3",
      "version": "3.6.9"
    },
    "colab": {
      "name": "04_conditional_DC-GAN.ipynb",
      "provenance": [],
      "collapsed_sections": [],
      "include_colab_link": true
    },
    "accelerator": "GPU"
  },
  "cells": [
    {
      "cell_type": "markdown",
      "metadata": {
        "id": "view-in-github",
        "colab_type": "text"
      },
      "source": [
        "<a href=\"https://colab.research.google.com/github/ykato27/GAN/blob/main/04_conditional_DC_GAN.ipynb\" target=\"_parent\"><img src=\"https://colab.research.google.com/assets/colab-badge.svg\" alt=\"Open In Colab\"/></a>"
      ]
    },
    {
      "cell_type": "markdown",
      "metadata": {
        "id": "QAT-iz9wcBRX"
      },
      "source": [
        "# conditional DC-GAN\n",
        "## 目的\n",
        "条件付きのDC-GANによって意図した画像の生成をして動作を理解する．\n",
        "\n",
        "## 必要なモジュールのインポート\n",
        "Pytorchで学習するときに必要となるモジュールをインポートします．"
      ]
    },
    {
      "cell_type": "code",
      "metadata": {
        "id": "Tgdqg3P_cBRY"
      },
      "source": [
        "import os\n",
        "import zipfile\n",
        "import urllib.request\n",
        "import numpy as np\n",
        "from PIL import Image\n",
        "%matplotlib inline\n",
        "import matplotlib.pyplot as plt\n",
        "\n",
        "import torch\n",
        "import torch.nn as nn\n",
        "import torch.optim as optim\n",
        "from torch.utils.data import DataLoader, Dataset\n",
        "from torchvision import datasets, transforms"
      ],
      "execution_count": null,
      "outputs": []
    },
    {
      "cell_type": "markdown",
      "metadata": {
        "id": "ylhOosV_cBRb"
      },
      "source": [
        "## ネットワークの構築\n",
        "基本的なネットワーク構造は，DC-GANと同様でConvolution及びDeconvolutionで設計します．\n",
        "ただ，conditional DC-GANでは条件の入力があるため，Generator及びDiscriminatorの入力層のチャネル数がクラス数分多くなっています．\n",
        "\n",
        "<img src=\"https://dl.dropboxusercontent.com/s/42tfm9viymbqemo/cGAN.png\" width=50%>\n",
        "\n"
      ]
    },
    {
      "cell_type": "code",
      "metadata": {
        "id": "BZc2vUnFcBRb"
      },
      "source": [
        "class Generator(nn.Module):\n",
        "    def __init__(self, latent_dim=100, out_ch=3, n_cls=10, img_size=32):\n",
        "        super(Generator, self).__init__()\n",
        "        n_layer = int(np.log2(img_size)) - 2\n",
        "        self.model = nn.Sequential()\n",
        "        \n",
        "        features = 512\n",
        "        self.model.add_module('Deconv_first', nn.ConvTranspose2d(latent_dim+n_cls, features, 2, 2, bias=True))\n",
        "        self.model.add_module('BN_first', nn.BatchNorm2d(features))\n",
        "        self.model.add_module('Act_first', nn.ReLU(inplace=True))\n",
        "  \n",
        "        in_features = features\n",
        "        for i in range(n_layer):\n",
        "            out_features = in_features // 2\n",
        "            self.model.add_module('Deconv%d' % i, nn.ConvTranspose2d(in_features, out_features, 4, 2, 1, bias=True))\n",
        "            self.model.add_module('BN%d' % i, nn.BatchNorm2d(out_features))\n",
        "            self.model.add_module('Act%d' % i, nn.ReLU(inplace=True))\n",
        "            in_features = out_features\n",
        "        \n",
        "        self.model.add_module('Deconv_last', nn.ConvTranspose2d(in_features, out_ch, 2, 2, bias=True))\n",
        "        self.model.add_module('Act_last', nn.Tanh())\n",
        "        self.weight_init()\n",
        "\n",
        "    def weight_init(self):\n",
        "        for m in self.model:\n",
        "          if isinstance(m, nn.ConvTranspose2d) or isinstance(m, nn.Conv2d):\n",
        "            m.weight.data.normal_(0.0, 0.02)\n",
        "            m.bias.data.zero_()\n",
        "\n",
        "    def forward(self, z):\n",
        "        return self.model(z)\n",
        "    \n",
        "class Discriminator(nn.Module):\n",
        "    def __init__(self, in_ch=3, n_cls=10, img_size=32):\n",
        "        super(Discriminator, self).__init__()\n",
        "        n_layer = int(np.log2(img_size)) - 2\n",
        "        self.model = nn.Sequential()\n",
        "        \n",
        "        features = 32\n",
        "        self.model.add_module('Conv_first', nn.Conv2d(in_ch+n_cls, features, 4, 2, 1, bias=True))\n",
        "        self.model.add_module('Act_first', nn.LeakyReLU(negative_slope=0.2))\n",
        "  \n",
        "        in_features = features\n",
        "        for i in range(n_layer):\n",
        "            out_features = in_features * 2\n",
        "            self.model.add_module('Conv%d' % i, nn.Conv2d(in_features, out_features, 4, 2, 1, bias=True))\n",
        "            self.model.add_module('BN%d' % i, nn.BatchNorm2d(out_features))\n",
        "            self.model.add_module('Act%d' % i, nn.LeakyReLU(negative_slope=0.2))\n",
        "            in_features = out_features\n",
        "        \n",
        "        self.model.add_module('Conv_last', nn.Conv2d(in_features, 1, 2, 1, bias=True))\n",
        "        self.weight_init()\n",
        "  \n",
        "    def weight_init(self):\n",
        "        for m in self.model:\n",
        "          if isinstance(m, nn.ConvTranspose2d) or isinstance(m, nn.Conv2d):\n",
        "            m.weight.data.normal_(0.0, 0.02)\n",
        "            m.bias.data.zero_()\n",
        "\n",
        "    def forward(self, x):\n",
        "        return self.model(x).view(-1)"
      ],
      "execution_count": null,
      "outputs": []
    },
    {
      "cell_type": "markdown",
      "metadata": {
        "id": "E-Lp4ruhcBRe"
      },
      "source": [
        "## データセットと最適化関数\n",
        "データセットにはMNISTを使用します．\n",
        "最適化関数はAdam optimizer使用し，学習率$2\\times 10^4$，betaの値を$0.5, 0.999$として学習します．"
      ]
    },
    {
      "cell_type": "code",
      "metadata": {
        "id": "IEkygtEVdNxt"
      },
      "source": [
        "class MNIST_Loader(Dataset):\n",
        "  def __init__(self, train=True, download=True, transform=None):\n",
        "    self.transform = transform\n",
        "    self.url = 'https://www.dropbox.com/s/hc7ukm7vzst5e40/MNIST.zip?dl=1'\n",
        "    \n",
        "    if download:\n",
        "      self._download()\n",
        "    \n",
        "    dname = os.path.join(self.url.rpartition('/')[2][:-9], 'processed')\n",
        "    if train:\n",
        "      datapath = os.path.join(dname, 'training.pt')\n",
        "    else:\n",
        "      datapath = os.path.join(dname, 'test.pt')\n",
        "  \n",
        "    self.data = torch.load(datapath)\n",
        "\n",
        "  def __len__(self):\n",
        "    return len(self.data[0])\n",
        "\n",
        "  def _download(self):\n",
        "    filename = self.url.rpartition('/')[2][:-5]\n",
        "    urllib.request.urlretrieve(self.url, filename)\n",
        "\n",
        "    with zipfile.ZipFile(filename) as existing_zip:\n",
        "      existing_zip.extractall()\n",
        "    os.remove(filename)\n",
        "\n",
        "  def __getitem__(self, i):\n",
        "    image = transforms.ToPILImage()(self.data[0][i])\n",
        "    label = self.data[1][i]\n",
        "\n",
        "    if self.transform:\n",
        "      image = self.transform(image)\n",
        "    return image, label"
      ],
      "execution_count": null,
      "outputs": []
    },
    {
      "cell_type": "code",
      "metadata": {
        "id": "OdRDwhBkcBRe",
        "colab": {
          "base_uri": "https://localhost:8080/"
        },
        "outputId": "bb309a46-3ed1-4f2e-9e20-fddea1895cd3"
      },
      "source": [
        "transform_training = transforms.Compose([\n",
        "        transforms.Resize((32, 32)),\n",
        "        transforms.ToTensor()])\n",
        "try:\n",
        "  mnist_data = datasets.MNIST(root='./data', train=True, transform=transform_training, download=True)\n",
        "except:\n",
        "  print('Warning: Switch the original implementation because official MNIST data did not download (probably the official server has down).')\n",
        "  mnist_data = MNIST_Loader(train=True, download=True, transform=transform_training)\n",
        "print('Done!') \n",
        "training_data = DataLoader(mnist_data, batch_size=100, shuffle=True)\n",
        "\n",
        "device = torch.device(\"cuda:0\" if torch.cuda.is_available() else \"cpu\")\n",
        "latent_dim = 100\n",
        "cls_num = 10\n",
        "G = Generator(latent_dim=latent_dim, out_ch=1, n_cls=cls_num, img_size=32).to(device)\n",
        "D = Discriminator(in_ch=1, n_cls=cls_num, img_size=32).to(device)\n",
        "opt_g = optim.Adam(G.parameters(), lr=0.0002, betas=(0.5, 0.999))\n",
        "opt_d = optim.Adam(D.parameters(), lr=0.0002, betas=(0.5, 0.999))"
      ],
      "execution_count": null,
      "outputs": [
        {
          "output_type": "stream",
          "text": [
            "Downloading http://yann.lecun.com/exdb/mnist/train-images-idx3-ubyte.gz to ./data/MNIST/raw/train-images-idx3-ubyte.gz\n",
            "Warning: Switch the original implementation because official MNIST data did not download (probably the official server has down).\n",
            "Done!\n"
          ],
          "name": "stdout"
        }
      ]
    },
    {
      "cell_type": "markdown",
      "metadata": {
        "id": "KGQw9OlBcBRg"
      },
      "source": [
        "## GANの学習\n",
        "ここでは，Generator及びDiscriminatorを用いてGANの学習をします．<br>\n",
        "GANの目的関数は以下に示す式です．\n",
        "$$\n",
        "\\min_{G}\\max_{D}V(D, G) = \\mathbb{E}_{x\\sim P_{data}(x)}\\left[\\log\\left(D(x)\\right)\\right] + \\mathbb{E}_{z\\sim P(z)}\\left[\\log\\left(1 - D(\\hat{x})\\right)\\right]\n",
        "$$\n",
        "GANを学習する際は，binary cross entopyを用いて学習します．実画像は1に，生成画像は0に近似するように学習をします．\n",
        "Discriminatorは，実画像は1生成画像は0と識別するとように学習をしますが，Generatorは生成した画像を実画像であるとDiscriminatorに誤識別をさせたいので，1と識別されるように学習をします．\n",
        "\n",
        "これによりGANの醍醐味である敵対学習を完成させることができます．<br>\n",
        "ここで，n_epochは学習回数です．n_criticはdiscriminatorを1 iterationで何回更新するかの数となっています．<br>\n",
        "Discriminatorを複数回更新した後にGeneratorを1回更新する理由は，モード崩壊を防止するためです．モード崩壊とは，GANの学習では深刻な問題で，Generatorがある一定の画像しか生成できなることや全く画像が生成できなくなることを指します．<br>\n",
        "Discriminatorは，おバカすぎてもダメで，賢すぎてもダメなのでいい塩梅をn_criticの"
      ]
    },
    {
      "cell_type": "code",
      "metadata": {
        "id": "botB5C8lcBRg",
        "colab": {
          "base_uri": "https://localhost:8080/"
        },
        "outputId": "125d07ea-28dd-4524-ebf8-72f76a41172b"
      },
      "source": [
        "n_epoch = 20\n",
        "n_critic = 1\n",
        "criterion = nn.BCEWithLogitsLoss()\n",
        "\n",
        "for epoch in range(1, n_epoch+1):\n",
        "    Tensor = torch.cuda.FloatTensor\n",
        "    for idx, (real_x, y) in enumerate(training_data):\n",
        "        real_x = real_x.to(device)\n",
        "        batch = real_x.size(0)\n",
        "        onehot = torch.eye(cls_num)[y].to(device)[:,:,None,None]\n",
        "        onehot_expand = onehot.expand(batch, onehot.size(1), real_x.size(2), real_x.size(3))\n",
        "        flag_real = Tensor(batch).fill_(1.0)\n",
        "        flag_fake = Tensor(batch).fill_(0.0)\n",
        "        \n",
        "        for _ in range(n_critic):\n",
        "            D.zero_grad()\n",
        "            z = torch.randn(batch, latent_dim+cls_num, 1, 1).to(device)\n",
        "            z[:, :10] = onehot\n",
        "            fake_x = G(z)\n",
        "            _real_x = torch.cat((real_x, onehot_expand), dim=1)\n",
        "            _fake_x = torch.cat((fake_x, onehot_expand), dim=1)\n",
        "            out_real = D(_real_x)\n",
        "            out_fake = D(_fake_x.detach())\n",
        "            loss_real = criterion(out_real, flag_real)\n",
        "            loss_fake = criterion(out_fake, flag_fake)\n",
        "            dis_loss = loss_real + loss_fake\n",
        "            dis_loss.backward()\n",
        "            opt_d.step()\n",
        "            \n",
        "        G.zero_grad()\n",
        "        z = torch.randn(batch, latent_dim+cls_num, 1, 1).to(device)\n",
        "        z[:, :10] = onehot\n",
        "        fake_x = G(z)\n",
        "        fake_x = torch.cat((fake_x, onehot_expand), dim=1)\n",
        "        out_gen = D(fake_x)\n",
        "        gen_loss = criterion(out_gen, flag_real)\n",
        "        gen_loss.backward()\n",
        "        opt_g.step()\n",
        "        \n",
        "        if idx % 100 == 0:\n",
        "            print('Training epoch: {} [{}/{} ({:.0f}%)] | D loss: {:.6f} | G loss: {:.6f} |'\\\n",
        "                  .format(epoch, idx * len(real_x), len(training_data.dataset),\n",
        "                  100. * idx / len(training_data), dis_loss.item(), gen_loss.item()))"
      ],
      "execution_count": null,
      "outputs": [
        {
          "output_type": "stream",
          "text": [
            "Training epoch: 1 [0/60000 (0%)] | D loss: 0.113318 | G loss: 3.949541 |\n",
            "Training epoch: 1 [10000/60000 (17%)] | D loss: 0.149677 | G loss: 4.010043 |\n",
            "Training epoch: 1 [20000/60000 (33%)] | D loss: 1.142323 | G loss: 5.355040 |\n",
            "Training epoch: 1 [30000/60000 (50%)] | D loss: 0.729998 | G loss: 2.473917 |\n",
            "Training epoch: 1 [40000/60000 (67%)] | D loss: 0.973190 | G loss: 1.720024 |\n",
            "Training epoch: 1 [50000/60000 (83%)] | D loss: 0.715035 | G loss: 2.413782 |\n",
            "Training epoch: 2 [0/60000 (0%)] | D loss: 0.851907 | G loss: 2.363157 |\n",
            "Training epoch: 2 [10000/60000 (17%)] | D loss: 0.910515 | G loss: 2.699892 |\n",
            "Training epoch: 2 [20000/60000 (33%)] | D loss: 0.788767 | G loss: 1.864142 |\n"
          ],
          "name": "stdout"
        }
      ]
    },
    {
      "cell_type": "markdown",
      "metadata": {
        "id": "ExfsKeWTcBRl"
      },
      "source": [
        "## 生成画像の確認\n",
        "学習済みのGeneratorを用いてどのような画像が生成されるのか，狙った画像を生成することができるのかを確認しましょう．<br>\n",
        "下に書いてあるコードは，今日の日付を生成するようにGeneratorへ条件を入力しています．"
      ]
    },
    {
      "cell_type": "code",
      "metadata": {
        "id": "ejWBDD8jcBRl",
        "colab": {
          "base_uri": "https://localhost:8080/",
          "height": 82
        },
        "outputId": "c19a66b4-e841-425d-cbd3-0fd0b886fb0b"
      },
      "source": [
        "import datetime\n",
        "now = datetime.datetime.now(\n",
        "    datetime.timezone(datetime.timedelta(hours=9)))\n",
        "year = now.year\n",
        "month = now.month\n",
        "day = now.day\n",
        "today = (str(year) + str(month).zfill(2) + str(day).zfill(2))\n",
        "today_list = [int(num) for num in today]\n",
        "\n",
        "c = np.asarray(today_list, dtype=np.int32)\n",
        "onehot = torch.eye(10)[c].cuda()[:,:,None,None]\n",
        "z = torch.randn(len(c), 100+10, 1, 1).cuda()\n",
        "z[:, :10] = onehot\n",
        "test_img = G(z)\n",
        "_test_img = (test_img * 256.).clamp(min=0., max=255.).data.cpu().view(len(c), 32, 32).numpy()\n",
        "\n",
        "fig = plt.figure(figsize=(10, 3))\n",
        "for i, im in enumerate(_test_img):\n",
        "    ax = fig.add_subplot(3, 10, i+1, xticks=[], yticks=[])\n",
        "    ax.imshow(im, 'gray')"
      ],
      "execution_count": null,
      "outputs": [
        {
          "output_type": "display_data",
          "data": {
            "image/png": "[encoded data removed]",
            "text/plain": [
              "<Figure size 720x216 with 8 Axes>"
            ]
          },
          "metadata": {
            "tags": []
          }
        }
      ]
    },
    {
      "cell_type": "markdown",
      "metadata": {
        "id": "YUprNLHcqDEX"
      },
      "source": [
        "# 参考文献\n",
        "[1] Mehdi Mirza and Simon Osindero, Conditional Generative Adversarial Nets, arXiv, 2014.\\\n",
        "[2] Alec Radford, Luke Metz and Soumith Chintala, Unsupervised Representation Learning with Deep Convolutional Generative Adversarial Networks, ICLR, 2016."
      ]
    },
    {
      "cell_type": "code",
      "metadata": {
        "id": "mIiKhKE0eyt5"
      },
      "source": [
        ""
      ],
      "execution_count": null,
      "outputs": []
    },
    {
      "cell_type": "code",
      "metadata": {
        "id": "YW3DEjiCcBRn"
      },
      "source": [
        ""
      ],
      "execution_count": null,
      "outputs": []
    }
  ]
}