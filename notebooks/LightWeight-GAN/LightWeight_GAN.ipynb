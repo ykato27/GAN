{
  "nbformat": 4,
  "nbformat_minor": 0,
  "metadata": {
    "colab": {
      "name": "LightWeight_GAN.ipynb",
      "provenance": [],
      "collapsed_sections": [],
      "authorship_tag": "ABX9TyOg1ZXQ90ZP3x5ai/MqUMoW",
      "include_colab_link": true
    },
    "kernelspec": {
      "name": "python3",
      "display_name": "Python 3"
    },
    "accelerator": "GPU"
  },
  "cells": [
    {
      "cell_type": "markdown",
      "metadata": {
        "id": "view-in-github",
        "colab_type": "text"
      },
      "source": [
        "<a href=\"https://colab.research.google.com/github/ykato27/LightWeight-GAN/blob/main/LightWeight_GAN.ipynb\" target=\"_parent\"><img src=\"https://colab.research.google.com/assets/colab-badge.svg\" alt=\"Open In Colab\"/></a>"
      ]
    },
    {
      "cell_type": "code",
      "metadata": {
        "colab": {
          "base_uri": "https://localhost:8080/"
        },
        "id": "RWNBqRIavg2y",
        "outputId": "82fe81b8-e527-4017-9c32-51b21d537d9d"
      },
      "source": [
        "# google drive に接続\n",
        "from google.colab import drive\n",
        "drive.mount('/content/drive')"
      ],
      "execution_count": 1,
      "outputs": [
        {
          "output_type": "stream",
          "text": [
            "Drive already mounted at /content/drive; to attempt to forcibly remount, call drive.mount(\"/content/drive\", force_remount=True).\n"
          ],
          "name": "stdout"
        }
      ]
    },
    {
      "cell_type": "code",
      "metadata": {
        "colab": {
          "base_uri": "https://localhost:8080/"
        },
        "id": "OGiFFFeivm4V",
        "outputId": "a7e086cd-38f2-4360-98e6-88f222396d6e"
      },
      "source": [
        "# MyDrive に移動\n",
        "%cd ./drive/MyDrive"
      ],
      "execution_count": 2,
      "outputs": [
        {
          "output_type": "stream",
          "text": [
            "/content/drive/MyDrive\n"
          ],
          "name": "stdout"
        }
      ]
    },
    {
      "cell_type": "code",
      "metadata": {
        "colab": {
          "base_uri": "https://localhost:8080/"
        },
        "id": "jQsNajx2vx1F",
        "outputId": "a8d54b71-f76e-4093-b6ad-96aeda653568"
      },
      "source": [
        "# lightweight_ganをインストール\n",
        "!pip install lightweight-gan"
      ],
      "execution_count": 3,
      "outputs": [
        {
          "output_type": "stream",
          "text": [
            "Requirement already satisfied: lightweight-gan in /usr/local/lib/python3.7/dist-packages (0.18.0)\n",
            "Requirement already satisfied: retry in /usr/local/lib/python3.7/dist-packages (from lightweight-gan) (0.9.2)\n",
            "Requirement already satisfied: adabelief-pytorch in /usr/local/lib/python3.7/dist-packages (from lightweight-gan) (0.2.1)\n",
            "Requirement already satisfied: kornia in /usr/local/lib/python3.7/dist-packages (from lightweight-gan) (0.4.1)\n",
            "Requirement already satisfied: numpy in /usr/local/lib/python3.7/dist-packages (from lightweight-gan) (1.19.5)\n",
            "Requirement already satisfied: tqdm in /usr/local/lib/python3.7/dist-packages (from lightweight-gan) (4.41.1)\n",
            "Requirement already satisfied: torchvision in /usr/local/lib/python3.7/dist-packages (from lightweight-gan) (0.8.2+cu101)\n",
            "Requirement already satisfied: torch>=1.6 in /usr/local/lib/python3.7/dist-packages (from lightweight-gan) (1.7.1+cu101)\n",
            "Requirement already satisfied: gsa-pytorch in /usr/local/lib/python3.7/dist-packages (from lightweight-gan) (0.2.2)\n",
            "Requirement already satisfied: pillow in /usr/local/lib/python3.7/dist-packages (from lightweight-gan) (7.0.0)\n",
            "Requirement already satisfied: fire in /usr/local/lib/python3.7/dist-packages (from lightweight-gan) (0.4.0)\n",
            "Requirement already satisfied: einops>=0.3 in /usr/local/lib/python3.7/dist-packages (from lightweight-gan) (0.3.0)\n",
            "Requirement already satisfied: decorator>=3.4.2 in /usr/local/lib/python3.7/dist-packages (from retry->lightweight-gan) (4.4.2)\n",
            "Requirement already satisfied: py<2.0.0,>=1.4.26 in /usr/local/lib/python3.7/dist-packages (from retry->lightweight-gan) (1.10.0)\n",
            "Requirement already satisfied: colorama>=0.4.0 in /usr/local/lib/python3.7/dist-packages (from adabelief-pytorch->lightweight-gan) (0.4.4)\n",
            "Requirement already satisfied: tabulate>=0.7 in /usr/local/lib/python3.7/dist-packages (from adabelief-pytorch->lightweight-gan) (0.8.9)\n",
            "Requirement already satisfied: typing-extensions in /usr/local/lib/python3.7/dist-packages (from torch>=1.6->lightweight-gan) (3.7.4.3)\n",
            "Requirement already satisfied: termcolor in /usr/local/lib/python3.7/dist-packages (from fire->lightweight-gan) (1.1.0)\n",
            "Requirement already satisfied: six in /usr/local/lib/python3.7/dist-packages (from fire->lightweight-gan) (1.15.0)\n"
          ],
          "name": "stdout"
        }
      ]
    },
    {
      "cell_type": "code",
      "metadata": {
        "colab": {
          "base_uri": "https://localhost:8080/"
        },
        "id": "fngwmI0-vz5Y",
        "outputId": "1756b751-0149-4ec9-da79-1312dde2ba7a"
      },
      "source": [
        "# githubから学習用データを取得\n",
        "!git clone https://github.com/cedro3/lightweight_gan.git\n",
        "% cd lightweight_gan/ramen"
      ],
      "execution_count": 4,
      "outputs": [
        {
          "output_type": "stream",
          "text": [
            "Cloning into 'lightweight_gan'...\n",
            "remote: Enumerating objects: 344, done.\u001b[K\n",
            "remote: Counting objects: 100% (344/344), done.\u001b[K\n",
            "remote: Compressing objects: 100% (334/334), done.\u001b[K\n",
            "remote: Total 344 (delta 5), reused 329 (delta 3), pack-reused 0\u001b[K\n",
            "Receiving objects: 100% (344/344), 13.29 MiB | 20.35 MiB/s, done.\n",
            "Resolving deltas: 100% (5/5), done.\n",
            "Checking out files: 100% (308/308), done.\n",
            "/content/drive/My Drive/lightweight_gan/ramen\n"
          ],
          "name": "stdout"
        }
      ]
    },
    {
      "cell_type": "code",
      "metadata": {
        "colab": {
          "base_uri": "https://localhost:8080/"
        },
        "id": "7RJOqqBbwdek",
        "outputId": "ca926386-8206-46ab-f250-34f927a066de"
      },
      "source": [
        "# 学習の実行 \n",
        "!lightweight_gan \\\n",
        "    --data ./data \\\n",
        "    --name 'ramen' \\\n",
        "    --batch-size 16 \\\n",
        "    --gradient-accumulate-every 4 \\\n",
        "    --num-train-steps 1000"
      ],
      "execution_count": 5,
      "outputs": [
        {
          "output_type": "stream",
          "text": [
            "autosetting augmentation probability to 30%\n",
            "ramen<./data>:   0% 0/1000 [00:00<?, ?it/s]G: 50.02 | D: 4.26 | GP: 8.15 | SS: 2.27\n",
            "ramen<./data>:   5% 47/1000 [02:14<44:47,  2.82s/it]G: -0.71 | D: 1.67 | GP: 0.42 | SS: 0.28\n",
            "ramen<./data>:  10% 99/1000 [04:40<42:12,  2.81s/it]G: 0.90 | D: 1.05 | GP: 0.35 | SS: 0.04\n",
            "ramen<./data>:  15% 147/1000 [06:56<39:49,  2.80s/it]G: 1.56 | D: 1.28 | GP: 0.06 | SS: 0.03\n",
            "ramen<./data>:  20% 199/1000 [09:22<37:22,  2.80s/it]G: 1.58 | D: 0.46 | GP: 0.33 | SS: 0.03\n",
            "ramen<./data>:  25% 247/1000 [11:38<35:07,  2.80s/it]G: 0.84 | D: 0.56 | GP: 0.56 | SS: 0.03\n",
            "ramen<./data>:  30% 299/1000 [14:03<32:38,  2.79s/it]G: 0.84 | D: 0.81 | GP: 0.29 | SS: 0.02\n",
            "ramen<./data>:  35% 347/1000 [16:30<30:37,  2.81s/it]G: 0.77 | D: 0.55 | GP: 0.12 | SS: 0.02\n",
            "ramen<./data>:  40% 399/1000 [18:45<27:58,  2.79s/it]G: 0.27 | D: 0.58 | GP: 0.54 | SS: 0.02\n",
            "ramen<./data>:  45% 447/1000 [21:00<25:52,  2.81s/it]G: 1.87 | D: 0.23 | GP: 0.06 | SS: 0.02\n",
            "ramen<./data>:  50% 499/1000 [23:26<23:26,  2.81s/it]G: 0.33 | D: 1.38 | GP: 0.99 | SS: 0.02\n",
            "ramen<./data>:  55% 547/1000 [25:42<21:11,  2.81s/it]G: 2.15 | D: 0.69 | GP: 0.09 | SS: 0.02\n",
            "ramen<./data>:  60% 599/1000 [28:07<18:42,  2.80s/it]G: 1.67 | D: 0.85 | GP: 0.04 | SS: 0.02\n",
            "ramen<./data>:  65% 647/1000 [30:23<16:30,  2.81s/it]G: 2.38 | D: 0.26 | GP: 0.22 | SS: 0.02\n",
            "ramen<./data>:  70% 699/1000 [32:48<14:02,  2.80s/it]G: 1.15 | D: 1.08 | GP: 0.02 | SS: 0.02\n",
            "ramen<./data>:  75% 747/1000 [35:04<11:50,  2.81s/it]G: 0.78 | D: 0.52 | GP: 0.70 | SS: 0.02\n",
            "ramen<./data>:  80% 799/1000 [37:29<09:24,  2.81s/it]G: 0.20 | D: 0.97 | GP: 0.32 | SS: 0.01\n",
            "ramen<./data>:  85% 847/1000 [39:45<07:09,  2.81s/it]G: 1.73 | D: 0.59 | GP: 0.16 | SS: 0.01\n",
            "ramen<./data>:  90% 899/1000 [42:11<04:43,  2.80s/it]G: 1.06 | D: 0.43 | GP: 0.02 | SS: 0.02\n",
            "ramen<./data>:  95% 947/1000 [44:26<02:28,  2.81s/it]G: 0.97 | D: 0.56 | GP: 0.06 | SS: 0.01\n",
            "ramen<./data>: 100% 1000/1000 [46:54<00:00,  2.81s/it]\n"
          ],
          "name": "stdout"
        }
      ]
    },
    {
      "cell_type": "code",
      "metadata": {
        "colab": {
          "base_uri": "https://localhost:8080/"
        },
        "id": "tx7BOxL1v2AT",
        "outputId": "a2c18b3b-5427-4f25-f27a-212a4e0b4881"
      },
      "source": [
        "# 学習済みモデルでJPG画像を生成\n",
        "!lightweight_gan --name 'ramen' --generate"
      ],
      "execution_count": 6,
      "outputs": [
        {
          "output_type": "stream",
          "text": [
            "continuing from previous epoch - 1\n",
            "loading from version 0.18.0\n",
            "Saving generated default images: 100% 8/8 [00:00<00:00, 46.59it/s]\n",
            "Saving generated EMA images: 100% 8/8 [00:00<00:00, 61.36it/s]\n",
            "sample images generated at /content/drive/My Drive/lightweight_gan/ramen/results/ramen-generated-1\n"
          ],
          "name": "stdout"
        }
      ]
    },
    {
      "cell_type": "code",
      "metadata": {
        "colab": {
          "base_uri": "https://localhost:8080/"
        },
        "id": "jFhQny-XwBbz",
        "outputId": "d7d98038-253b-428b-d95e-4996af9a3576"
      },
      "source": [
        "# 学習済みモデルでGIF動画を生成\n",
        "!lightweight_gan --name 'ramen' --generate-interpolation"
      ],
      "execution_count": 7,
      "outputs": [
        {
          "output_type": "stream",
          "text": [
            "continuing from previous epoch - 1\n",
            "loading from version 0.18.0\n",
            "100% 100/100 [00:44<00:00,  2.24it/s]\n",
            "interpolation generated at ./results/ramen/generated-03-07-2021_12-13-36\n"
          ],
          "name": "stdout"
        }
      ]
    },
    {
      "cell_type": "code",
      "metadata": {
        "id": "xRZ-1JuawI4f"
      },
      "source": [
        ""
      ],
      "execution_count": null,
      "outputs": []
    }
  ]
}